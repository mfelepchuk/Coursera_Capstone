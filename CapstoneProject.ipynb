{
 "cells": [
  {
   "cell_type": "markdown",
   "metadata": {},
   "source": [
    "# Battle of the Neighbourhoods: Sushi Edition\n",
    "\n",
    "This notebook will be used for the IBM Data Science capstone project - 'Battle of the Neighbourhoods'."
   ]
  },
  {
   "cell_type": "markdown",
   "metadata": {},
   "source": [
    "## Introduction and Business Problem\n",
    "\n",
    "In this installment of Battle of the Neighbourhoods, I’m going to be looking at which city has the best average sushi restaurant score for their five most popular sushi restaurants. I’m also going to look at which cities are comparable when it comes to sushi. This will be based on the density of sushi restaurants compared to all other restaurants, total number of sushi restaurants and the price of sushi restaurants. With this information I’ll cluster the cities based on their sushi-metrics.\n",
    "\n",
    "The cities I’ve chose for this battle are:\n",
    "* Toronto\n",
    "* Ottawa\n",
    "* Montreal\n",
    "* Vancouver\n",
    "* New York\n",
    "* Los Angeles\n",
    "* San Francisco\n",
    "* Portland\n",
    "* Chicago\n",
    "* Atlanta\n",
    "* Miami\n",
    "* Seattle\n",
    "* Sao Paolo\n",
    "* London\n",
    "* Paris\n",
    "* Berlin\n",
    "* Tokyo\n",
    "* Singapore\n",
    "* Manila\n",
    "* Bangkok\n"
   ]
  },
  {
   "cell_type": "markdown",
   "metadata": {},
   "source": [
    "## Data \n",
    "\n",
    "I’ll be accessing restaurants within a 10 kilometer radius of the city centre. With this information, I’ll use this to calculate my sushi density index and the distribution of sushi restaurants based on price. I’ll then look at the five most popular sushi restaurants in each city and access their average rating. From this I’ll calculate each city’s average sushi restaurant score.\n",
    "\n",
    "This will require two different GET requests from the FourSquare API. The first request will explore venues within 10,000 metres of the city center and be limited to restaurants only. This will get all of the restaurants in the city. This list will be used to calculate sushi density. From this I can filter down only sushi restaurants and will take the first five for each city.\n",
    "\n",
    "Using the vendor information for the first ten sushi restaurants in each city, I’ll make a GET request to access the ratings for each of the sushi restaurants. From this I’ll look at a ranking of the top cities for sushi.\n",
    "\n",
    "Next, I’ll use the sushi data I’ve collected to cluster the cities into different sushi classes and map these clusters using folium. Using this I’ll draw conclusions of the different cities and where they stand in the world of sushi.\n"
   ]
  },
  {
   "cell_type": "code",
   "execution_count": 2,
   "metadata": {},
   "outputs": [],
   "source": [
    "import pandas as pd\n",
    "import numpy as np"
   ]
  },
  {
   "cell_type": "code",
   "execution_count": null,
   "metadata": {},
   "outputs": [],
   "source": []
  },
  {
   "cell_type": "code",
   "execution_count": null,
   "metadata": {},
   "outputs": [],
   "source": []
  },
  {
   "cell_type": "code",
   "execution_count": null,
   "metadata": {},
   "outputs": [],
   "source": []
  }
 ],
 "metadata": {
  "kernelspec": {
   "display_name": "Python 3",
   "language": "python",
   "name": "python3"
  },
  "language_info": {
   "codemirror_mode": {
    "name": "ipython",
    "version": 3
   },
   "file_extension": ".py",
   "mimetype": "text/x-python",
   "name": "python",
   "nbconvert_exporter": "python",
   "pygments_lexer": "ipython3",
   "version": "3.7.4"
  }
 },
 "nbformat": 4,
 "nbformat_minor": 2
}
